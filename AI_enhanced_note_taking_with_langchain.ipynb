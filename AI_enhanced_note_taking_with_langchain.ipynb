{
 "cells": [
  {
   "attachments": {},
   "cell_type": "markdown",
   "metadata": {},
   "source": [
    "# Load Your Documents\n",
    "\n",
    "Loading Obsidian Notes with langchain.document_loaders"
   ]
  },
  {
   "cell_type": "code",
   "execution_count": 1,
   "metadata": {},
   "outputs": [],
   "source": [
    "from langchain.document_loaders import ObsidianLoader\n",
    "\n",
    "loader = ObsidianLoader(\"/home/lucassoares/Desktop/projects/Notes\")\n",
    "\n",
    "docs =  loader.load()"
   ]
  },
  {
   "attachments": {},
   "cell_type": "markdown",
   "metadata": {},
   "source": [
    "# Create your Index\n",
    "\n",
    "The best is VectorStore index."
   ]
  },
  {
   "cell_type": "code",
   "execution_count": 2,
   "metadata": {},
   "outputs": [
    {
     "name": "stderr",
     "output_type": "stream",
     "text": [
      "Using embedded DuckDB without persistence: data will be transient\n"
     ]
    }
   ],
   "source": [
    "#!pip install chromdb\n",
    "\n",
    "from langchain.indexes import VectorstoreIndexCreator\n",
    "\n",
    "index = VectorstoreIndexCreator().from_loaders([loader])"
   ]
  },
  {
   "cell_type": "code",
   "execution_count": 3,
   "metadata": {},
   "outputs": [
    {
     "data": {
      "text/plain": [
       "{'question': 'What are the 8 problems I have listed on my 12 problems note about AI research?',\n",
       " 'answer': ' The 8 problems listed on the 12 problems note about AI research are: Problem - Intelligence Generalization, Problem - What is Attention?, Problem_Credit_Assignment, Problem_novel_neural_network, Problem - Symbolic Programming, Problem_cognitive_augmentation, What Makes a Representation Transferable?, and Problem_Program_synthesis.\\n',\n",
       " 'sources': '/home/lucassoares/Desktop/projects/Notes/12 Problems.md'}"
      ]
     },
     "execution_count": 3,
     "metadata": {},
     "output_type": "execute_result"
    }
   ],
   "source": [
    "query = \"What are the 8 problems I have listed on my 12 problems note about AI research?\"\n",
    "\n",
    "index.query_with_sources(query)"
   ]
  },
  {
   "attachments": {},
   "cell_type": "markdown",
   "metadata": {},
   "source": [
    "Extra queries"
   ]
  },
  {
   "cell_type": "code",
   "execution_count": 4,
   "metadata": {},
   "outputs": [
    {
     "data": {
      "text/plain": [
       "{'question': 'Summarize my thoughts on technology',\n",
       " 'answer': ' Technology can be used to augment our capabilities, allowing us to represent complex thoughts and pieces of information in compact representations, and to outsource mental capabilities to reduce the effort needed to discover things. It is important to approach these advancements with a balance of enthusiasm and caution, ensuring that ethical considerations and societal implications are addressed.\\n',\n",
       " 'sources': '/home/lucassoares/Desktop/projects/Notes/NotasArthur.md, /home/lucassoares/Desktop/projects/Notes/Thoughts About Technology.md, /home/lucassoares/Desktop/projects/Notes/Path to Focus.md'}"
      ]
     },
     "execution_count": 4,
     "metadata": {},
     "output_type": "execute_result"
    }
   ],
   "source": [
    "query = \"Summarize my thoughts on technology\"\n",
    "\n",
    "index.query_with_sources(query)"
   ]
  },
  {
   "cell_type": "code",
   "execution_count": 5,
   "metadata": {},
   "outputs": [
    {
     "data": {
      "text/plain": [
       "{'question': 'Give me the main points of my note about Automating Data Science Workflows',\n",
       " 'answer': ' The main points of the note about Automating Data Science Workflows are: leveraging natural language processing and AI-driven tools to streamline and automate various aspects of data science workflows; using AI-powered language models like ChatGPT (Language Chain) to assist data scientists in tasks like data exploration, feature engineering, model selection, and even report generation; automating various aspects of the data science workflow to focus on more critical tasks and reduce the time required to go from problem formulation to deployed models; and automation playing a critical role in combining the different components involved in building a machine learning pipeline.\\n',\n",
       " 'sources': '/home/lucassoares/Desktop/projects/Notes/Automating Data Science Workflows.md, /home/lucassoares/Desktop/projects/Notes/Educative Course AWS Backups.md'}"
      ]
     },
     "execution_count": 5,
     "metadata": {},
     "output_type": "execute_result"
    }
   ],
   "source": [
    "query = \"Give me the main points of my note about Automating Data Science Workflows\"\n",
    "\n",
    "index.query_with_sources(query)"
   ]
  },
  {
   "cell_type": "markdown",
   "metadata": {},
   "source": []
  }
 ],
 "metadata": {
  "kernelspec": {
   "display_name": "chatgpt_experiments",
   "language": "python",
   "name": "chatgpt_experiments"
  },
  "language_info": {
   "codemirror_mode": {
    "name": "ipython",
    "version": 3
   },
   "file_extension": ".py",
   "mimetype": "text/x-python",
   "name": "python",
   "nbconvert_exporter": "python",
   "pygments_lexer": "ipython3",
   "version": "3.9.16"
  },
  "orig_nbformat": 4
 },
 "nbformat": 4,
 "nbformat_minor": 2
}
